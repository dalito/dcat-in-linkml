{
 "cells": [
  {
   "cell_type": "code",
   "execution_count": 1,
   "metadata": {},
   "outputs": [],
   "source": [
    "from rdflib import Namespace, Graph"
   ]
  },
  {
   "cell_type": "code",
   "execution_count": 2,
   "metadata": {},
   "outputs": [
    {
     "data": {
      "text/plain": [
       "<Graph identifier=Ne96ed70b1e6e4042bf52207cb15122f7 (<class 'rdflib.graph.Graph'>)>"
      ]
     },
     "execution_count": 2,
     "metadata": {},
     "output_type": "execute_result"
    }
   ],
   "source": [
    "minishacl = \"\"\"\n",
    "@prefix : <http://example.org/> .\n",
    "@prefix xsd: <http://www.w3.org/2001/XMLSchema#> .\n",
    "@prefix sh: <http://www.w3.org/ns/shacl#> .\n",
    "@prefix schema: <http://schema.org/> .\n",
    "\n",
    ":UserShape a sh:NodeShape;\n",
    "   sh:targetClass :User ;\n",
    "   sh:property [\n",
    "    sh:path     schema:name ;\n",
    "    sh:minCount 1;\n",
    "    sh:maxCount 1;\n",
    "    sh:datatype xsd:string ;\n",
    "  ] ;\n",
    "  sh:property [\n",
    "   sh:path schema:gender ;\n",
    "   sh:minCount 1;\n",
    "   sh:maxCount 1;\n",
    "   sh:or (\n",
    "    [ sh:in (schema:Male schema:Female) ]\n",
    "    [ sh:datatype xsd:string]\n",
    "   )\n",
    "  ] ;\n",
    "  sh:property [\n",
    "   sh:path     schema:birthDate ;\n",
    "   sh:maxCount 1;\n",
    "   sh:datatype xsd:date ;\n",
    "  ] ;\n",
    "  sh:property [\n",
    "   sh:path     schema:knows ;\n",
    "   sh:nodeKind sh:IRI ;\n",
    "   sh:class    :User ;\n",
    "  ].\n",
    "\"\"\".strip()\n",
    "# Create an empty graph\n",
    "graph = Graph()\n",
    "# Load the graph from the string\n",
    "graph.parse(data=minishacl, format=\"n3\")\n"
   ]
  },
  {
   "cell_type": "code",
   "execution_count": 3,
   "metadata": {},
   "outputs": [
    {
     "name": "stdout",
     "output_type": "stream",
     "text": [
      "targetClass object: http://example.org/User\n",
      "  blank node: ub1bL7C16 - sh:path object: http://schema.org/name\n",
      "  blank node: ub1bL13C15 - sh:path object: http://schema.org/gender\n",
      "  blank node: ub1bL22C15 - sh:path object: http://schema.org/birthDate\n",
      "  blank node: ub1bL27C15 - sh:path object: http://schema.org/knows\n"
     ]
    }
   ],
   "source": [
    "# Define the SHACL namespace\n",
    "SHACL = Namespace(\"http://www.w3.org/ns/shacl#\")\n",
    "\n",
    "# Get all triples with targetClass predicate\n",
    "target_classes = graph.triples((None, SHACL.targetClass, None))\n",
    "\n",
    "# Iterate over triples with targetClass predicate\n",
    "for subj, target_class, obj in target_classes:\n",
    "    print(f\"targetClass object: {obj}\")\n",
    "    \n",
    "    # Get all blank nodes with sh:path predicates\n",
    "    blank_nodes = graph.objects(subject=subj, predicate=SHACL.property)\n",
    "    \n",
    "    # Print the objects with predicate sh:path for each blank node\n",
    "    for blank_node in blank_nodes:\n",
    "        path_objects = list(graph.objects(subject=blank_node, predicate=SHACL.path))\n",
    "        assert len(path_objects) == 1\n",
    "        print(f\"  blank node: {blank_node} - sh:path object: {path_objects[0]}\")\n"
   ]
  },
  {
   "cell_type": "code",
   "execution_count": null,
   "metadata": {},
   "outputs": [],
   "source": []
  }
 ],
 "metadata": {
  "kernelspec": {
   "display_name": "Python 3 (ipykernel)",
   "language": "python",
   "name": "python3"
  },
  "language_info": {
   "codemirror_mode": {
    "name": "ipython",
    "version": 3
   },
   "file_extension": ".py",
   "mimetype": "text/x-python",
   "name": "python",
   "nbconvert_exporter": "python",
   "pygments_lexer": "ipython3",
   "version": "3.12.5"
  }
 },
 "nbformat": 4,
 "nbformat_minor": 4
}
